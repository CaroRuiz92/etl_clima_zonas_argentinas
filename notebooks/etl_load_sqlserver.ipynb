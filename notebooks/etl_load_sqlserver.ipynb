{
 "cells": [
  {
   "cell_type": "markdown",
   "id": "25d9e125-0c4e-4b9d-90cc-da023e92234e",
   "metadata": {},
   "source": [
    "## Carga de datos en SQL Server"
   ]
  },
  {
   "cell_type": "code",
   "execution_count": 1,
   "id": "35c464c8-2167-44ce-a950-2a9f5734db33",
   "metadata": {},
   "outputs": [
    {
     "name": "stdout",
     "output_type": "stream",
     "text": [
      "Requirement already satisfied: pyodbc in d:\\programas\\anaconda3\\lib\\site-packages (4.0.34)\n"
     ]
    }
   ],
   "source": [
    "!pip install pyodbc"
   ]
  },
  {
   "cell_type": "code",
   "execution_count": 3,
   "id": "aabf027a-e698-4015-b81c-4d0e573720d5",
   "metadata": {},
   "outputs": [],
   "source": [
    "import pyodbc"
   ]
  },
  {
   "cell_type": "markdown",
   "id": "13619fbb-6687-46ea-b2ae-d2d0a2c8f171",
   "metadata": {},
   "source": [
    "Conexión con SQL SERVER"
   ]
  },
  {
   "cell_type": "code",
   "execution_count": 5,
   "id": "22c5908e-889e-4b81-906a-8a8be0740212",
   "metadata": {},
   "outputs": [],
   "source": [
    "conn = pyodbc.connect(\"DRIVER={SQL Server};SERVER=Dell-Carito\\SQLEXPRESS;DATABASE=datos_clima;Trusted_Connection=yes\")"
   ]
  },
  {
   "cell_type": "markdown",
   "id": "9f25b6b0-f6bc-4619-a025-d2f225717d81",
   "metadata": {},
   "source": [
    "Carga de dataset definitivo"
   ]
  },
  {
   "cell_type": "code",
   "execution_count": 7,
   "id": "931f9d11-f324-4ef1-8b12-2e6111fb175f",
   "metadata": {},
   "outputs": [],
   "source": [
    "import pandas as pd"
   ]
  },
  {
   "cell_type": "code",
   "execution_count": 9,
   "id": "61dad911-ecee-401d-ba4b-9aff442a44f7",
   "metadata": {},
   "outputs": [],
   "source": [
    "data = pd.read_csv(r'C:\\Users\\icrui\\Documents\\DS-ML\\proy_etl_clim_arg\\data\\df_climas_arg.csv')"
   ]
  },
  {
   "cell_type": "code",
   "execution_count": 11,
   "id": "f43e3efe-3a5b-4155-9d64-ef79549caddc",
   "metadata": {},
   "outputs": [
    {
     "data": {
      "text/plain": [
       "72"
      ]
     },
     "execution_count": 11,
     "metadata": {},
     "output_type": "execute_result"
    }
   ],
   "source": [
    "# Se chequea la cantidad de filas que tiene data para contrastar su version en SQL y ver si todo se cargó bien\n",
    "len(data)"
   ]
  },
  {
   "cell_type": "code",
   "execution_count": 15,
   "id": "ceb35be8-3824-4358-8693-3378bb49bb46",
   "metadata": {},
   "outputs": [
    {
     "name": "stdout",
     "output_type": "stream",
     "text": [
      "<class 'pandas.core.frame.DataFrame'>\n",
      "RangeIndex: 72 entries, 0 to 71\n",
      "Data columns (total 14 columns):\n",
      " #   Column                      Non-Null Count  Dtype  \n",
      "---  ------                      --------------  -----  \n",
      " 0   estacion                    72 non-null     object \n",
      " 1   mes                         72 non-null     object \n",
      " 2   provincia                   72 non-null     object \n",
      " 3   precipi_mm                  60 non-null     float64\n",
      " 4   frec_dias_precipi_sup_1mm   60 non-null     float64\n",
      " 5   humedad_relac               63 non-null     float64\n",
      " 6   nubosidad_octas             72 non-null     float64\n",
      " 7   temperat_c                  72 non-null     float64\n",
      " 8   temperat_max_c              72 non-null     float64\n",
      " 9   temperat_min_c              72 non-null     float64\n",
      " 10  veloc_kmh_viento_2011_2020  48 non-null     float64\n",
      " 11  altura_m                    72 non-null     int64  \n",
      " 12  latitud                     72 non-null     float64\n",
      " 13  longitud                    72 non-null     float64\n",
      "dtypes: float64(10), int64(1), object(3)\n",
      "memory usage: 8.0+ KB\n"
     ]
    }
   ],
   "source": [
    "data.info()"
   ]
  },
  {
   "cell_type": "code",
   "execution_count": 17,
   "id": "016c9dd1-ebca-4c18-bb43-cfde0c6ccd08",
   "metadata": {},
   "outputs": [],
   "source": [
    "cursor = conn.cursor()"
   ]
  },
  {
   "cell_type": "markdown",
   "id": "e8196e93-e593-4423-911d-c3e5286dc379",
   "metadata": {},
   "source": [
    "Carga de datos con revisión de datos fallidos (si se presenta)"
   ]
  },
  {
   "cell_type": "code",
   "execution_count": 19,
   "id": "fa382941-0513-4d88-affc-4046db4dacc9",
   "metadata": {},
   "outputs": [],
   "source": [
    "for index, row in data.iterrows():\n",
    "    # 1) Limpieza de datos\n",
    "    processed_row = row.copy()\n",
    "\n",
    "    numeric_cols = [\n",
    "        'precipi_mm', 'frec_dias_precipi_sup_1mm', 'humedad_relac', 'nubosidad_octas',\n",
    "        'temperat_c', 'temperat_max_c', 'temperat_min_c', 'veloc_kmh_viento_2011_2020',\n",
    "        'altura_m', 'latitud', 'longitud'\n",
    "    ]\n",
    "\n",
    "    for col in numeric_cols:\n",
    "        value = processed_row[col]\n",
    "        if isinstance(value, str):\n",
    "            value = value.strip()\n",
    "            if not value:\n",
    "                processed_row[col] = None\n",
    "            else:\n",
    "                try:\n",
    "                    processed_row[col] = float(value)\n",
    "                except ValueError:\n",
    "                    print(f\"--- ¡ADVERTENCIA EN LA FILA {index}!: No se pudo convertir '{row[col]}' a float en la columna '{col}'. Estableciendo a None. ---\")\n",
    "                    processed_row[col] = None\n",
    "        elif pd.isna(value):\n",
    "             processed_row[col] = None\n",
    "\n",
    "    # 2) Ejecución de la consulta con manejo de errores\n",
    "    try:\n",
    "        cursor.execute(\"\"\"\n",
    "        INSERT INTO df_climas_arg(\n",
    "        estacion, mes, provincia, precipi_mm, frec_dias_precipi_sup_1mm, humedad_relac,\n",
    "        nubosidad_octas, temperat_c, temperat_max_c, temperat_min_c, veloc_kmh_viento_2011_2020,\n",
    "        altura_m, latitud, longitud) VALUES (?, ?, ?, ?, ?, ?, ?, ?, ?, ?, ?, ?, ?, ?)\n",
    "        \"\"\",\n",
    "        processed_row['estacion'], processed_row['mes'], processed_row['provincia'], processed_row['precipi_mm'],\n",
    "        processed_row['frec_dias_precipi_sup_1mm'], processed_row['humedad_relac'], processed_row['nubosidad_octas'], processed_row['temperat_c'],\n",
    "        processed_row['temperat_max_c'], processed_row['temperat_min_c'], processed_row['veloc_kmh_viento_2011_2020'],\n",
    "        processed_row['altura_m'], processed_row['latitud'], processed_row['longitud'])\n",
    "\n",
    "    except pyodbc.ProgrammingError as e:\n",
    "        print(f\"\\n--- ¡ERROR DE INSERCIÓN DETECTADO EN LA FILA {index}! ---\")\n",
    "        print(f\"Error completo: {e}\")\n",
    "        print(f\"Diccionario de datos de la fila problemática: {processed_row.to_dict()}\")\n",
    "\n",
    "        print(\"\\n--- DETALLE DE PARÁMETROS ENVIADOS A LA BASE DE DATOS PARA ESTA FILA ---\")\n",
    "        params = [\n",
    "            processed_row['estacion'], processed_row['mes'], processed_row['provincia'], processed_row['precipi_mm'],\n",
    "            processed_row['frec_dias_precipi_sup_1mm'], processed_row['humedad_relac'], processed_row['nubosidad_octas'], processed_row['temperat_c'],\n",
    "            processed_row['temperat_max_c'], processed_row['temperat_min_c'], processed_row['veloc_kmh_viento_2011_2020'],\n",
    "            processed_row['altura_m'], processed_row['latitud'], processed_row['longitud']\n",
    "        ]\n",
    "        for i, p_val in enumerate(params):\n",
    "            prefix = f\"Parámetro {i+1}\"\n",
    "            if i == 13: # El parámetro 14 es el índice 13\n",
    "                prefix = \"**Parámetro 14 (lon_gr)**\"\n",
    "            print(f\"{prefix}: {p_val} (Tipo Python: {type(p_val)})\")\n",
    "\n",
    "        conn.rollback()\n",
    "        cursor.close()\n",
    "        conn.close()\n",
    "        raise\n",
    "\n",
    "    except Exception as e:\n",
    "        print(f\"\\n--- ¡ERROR INESPERADO EN LA FILA {index}! ---\")\n",
    "        print(f\"Error: {e}\")\n",
    "        print(f\"Diccionario de datos de la fila problemática: {processed_row.to_dict()}\")\n",
    "        conn.rollback()\n",
    "        cursor.close()\n",
    "        conn.close()\n",
    "        raise\n",
    "\n",
    "conn.commit()\n",
    "cursor.close()\n",
    "conn.close()"
   ]
  },
  {
   "cell_type": "code",
   "execution_count": null,
   "id": "85cdab1e-724a-42d5-a179-db27d0420188",
   "metadata": {},
   "outputs": [],
   "source": []
  }
 ],
 "metadata": {
  "kernelspec": {
   "display_name": "Python [conda env:base] *",
   "language": "python",
   "name": "conda-base-py"
  },
  "language_info": {
   "codemirror_mode": {
    "name": "ipython",
    "version": 3
   },
   "file_extension": ".py",
   "mimetype": "text/x-python",
   "name": "python",
   "nbconvert_exporter": "python",
   "pygments_lexer": "ipython3",
   "version": "3.11.5"
  }
 },
 "nbformat": 4,
 "nbformat_minor": 5
}
